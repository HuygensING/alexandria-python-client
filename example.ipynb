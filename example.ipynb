{
 "cells": [
  {
   "cell_type": "code",
   "execution_count": null,
   "metadata": {
    "collapsed": false,
    "scrolled": false
   },
   "outputs": [
    {
     "name": "stdout",
     "output_type": "stream",
     "text": [
      "ResourceProxy::bla:res1\n",
      "a08e2fa7-8a12-4c3c-9ee2-67138074035c\n"
     ]
    }
   ],
   "source": [
    "from alexandria_notebook.alexandria_proxy import AlexandriaProxy\n",
    "\n",
    "alexandria = AlexandriaProxy(\"http://localhost:2015/\",\"admin\")\n",
    "id1=\"bla:res1\"\n",
    "resource = alexandria.create_resource(id1)\n",
    "print(resource)\n",
    "print(resource.uuid)"
   ]
  },
  {
   "cell_type": "code",
   "execution_count": null,
   "metadata": {
    "collapsed": false
   },
   "outputs": [],
   "source": [
    "with open('data/grotius-3160-v2.xml','r') as f:\n",
    "    xml = f.read()\n",
    "\n",
    "resource.set_xml(xml)"
   ]
  },
  {
   "cell_type": "code",
   "execution_count": null,
   "metadata": {
    "collapsed": false,
    "scrolled": false
   },
   "outputs": [],
   "source": [
    "print(resource.get_xml())"
   ]
  },
  {
   "cell_type": "code",
   "execution_count": null,
   "metadata": {
    "collapsed": false
   },
   "outputs": [],
   "source": [
    "resource.show_graph()"
   ]
  },
  {
   "cell_type": "code",
   "execution_count": null,
   "metadata": {
    "collapsed": false
   },
   "outputs": [],
   "source": [
    "resource2 = alexandria.get_resource(id1)\n",
    "print(resource2)\n",
    "resource.export_dot()\n",
    "dir(resource)\n",
    "\n"
   ]
  },
  {
   "cell_type": "code",
   "execution_count": null,
   "metadata": {
    "collapsed": false
   },
   "outputs": [],
   "source": [
    "from alexandria_notebook.text_view import TextView\n",
    "from alexandria_notebook.element import Element\n",
    "\n",
    "view1 = TextView('no-name-tags')\n",
    "view1.description = 'leave out persName, placeName tags'\n",
    "view1.elements.append(Element('persName','hideTag'))\n",
    "view1.elements.append(Element('placeName','hideTag'))\n",
    "resource.set_view(view1)\n",
    "filtered = resource.get_xml_using_view(view1.name)\n",
    "print(filtered)"
   ]
  },
  {
   "cell_type": "code",
   "execution_count": null,
   "metadata": {
    "collapsed": false
   },
   "outputs": [],
   "source": [
    "view2 = TextView('v2')\n",
    "view2.description = 'vv22'\n",
    "view2.elements.append(Element(':default','hideTag'))\n",
    "view2.elements.append(Element('p','show'))\n",
    "resource.set_view(view2)\n",
    "print(resource.get_xml_using_view(view2.name))\n"
   ]
  },
  {
   "cell_type": "code",
   "execution_count": null,
   "metadata": {
    "collapsed": false
   },
   "outputs": [],
   "source": [
    "from alexandria_client.annotator import Annotator\n",
    "a1 = Annotator('ckcc', 'main ckcc annotator')\n",
    "resource.set_annotator(a1)\n",
    "a2 = Annotator('other', 'other annotator')\n",
    "resource.set_annotator(a2)\n",
    "print(resource.get_annotators())\n",
    "print(a1)"
   ]
  },
  {
   "cell_type": "code",
   "execution_count": null,
   "metadata": {
    "collapsed": false,
    "scrolled": false
   },
   "outputs": [],
   "source": [
    "a =1\n",
    "print(resource.export_dot())\n"
   ]
  }
 ],
 "metadata": {
  "anaconda-cloud": {},
  "kernelspec": {
   "display_name": "Python [Root]",
   "language": "python",
   "name": "Python [Root]"
  },
  "language_info": {
   "codemirror_mode": {
    "name": "ipython",
    "version": 3
   },
   "file_extension": ".py",
   "mimetype": "text/x-python",
   "name": "python",
   "nbconvert_exporter": "python",
   "pygments_lexer": "ipython3",
   "version": "3.5.2"
  }
 },
 "nbformat": 4,
 "nbformat_minor": 0
}
